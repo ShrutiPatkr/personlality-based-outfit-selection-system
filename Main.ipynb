{
 "cells": [
  {
   "cell_type": "code",
   "execution_count": 1,
   "id": "f605e105-013b-4eef-8f03-5e230e1a684d",
   "metadata": {},
   "outputs": [],
   "source": [
    "\"\"\"\n",
    "Process Name : STEP 5 : CREATION OF MODEL\n",
    "\"\"\"\n",
    "#=======================================================================================================\n",
    "### Required Imports ###\n",
    "#============================================================================================================\n",
    "try:\n",
    "    import sys  # System-specific parameters and functions\n",
    "    import logging # for logs\n",
    "    from datetime import datetime  # Date and time\n",
    "    import socket # network communication\n",
    "    import nbformat\n",
    "    from nbconvert.preprocessors import ExecutePreprocessor\n",
    "    import os\n",
    "    import pandas as pd\n",
    "except Exception as err:\n",
    "    print(\"Exception raised while importing the packages\")\n",
    "    print(f'Exception: {err}')\n",
    "    #input(\"press Enter to Close\")\n",
    "    sys.exit()"
   ]
  },
  {
   "cell_type": "code",
   "execution_count": null,
   "id": "64f017a7-60a1-4ffd-a271-2b2744f3bd92",
   "metadata": {},
   "outputs": [],
   "source": []
  },
  {
   "cell_type": "code",
   "execution_count": 2,
   "id": "61a7da71-bfca-4b56-bf98-d0b6574c58d4",
   "metadata": {},
   "outputs": [
    {
     "name": "stdout",
     "output_type": "stream",
     "text": [
      "192.168.1.112 : 2024-09-05 16:22:19,145 : INFO : [2204483403.py:45] : Process start\n"
     ]
    }
   ],
   "source": [
    "#=========================================================================\n",
    "### Initialization ###\n",
    "#=========================================================================\n",
    "try:\n",
    "    path = os.getcwd()\n",
    "    curr_time = datetime.now()\n",
    "\n",
    "    ### Log Files declaration ###\n",
    "    log_folder = os.path.join(path, 'Logs')\n",
    "    log_date_fmt = str(curr_time.strftime('%Y')) + '-' + str(curr_time.strftime('%m')) + '-' + str(curr_time.strftime('%d')) + \"_\" + str(curr_time.strftime(\"%H\")) + \"-\" + str(curr_time.strftime(\"%M\"))\n",
    "\n",
    "    audit_log_file = \"Audit_Main.log\"\n",
    "    audit_log_file = os.path.join(log_folder, audit_log_file)\n",
    "    \n",
    "    error_log_file = \"Error_Main.log\"\n",
    "    error_log_file = os.path.join(log_folder, error_log_file)\n",
    "\n",
    "    ### Creating log folder ###\n",
    "    if not os.path.exists(log_folder):\n",
    "        os.makedirs(log_folder)\n",
    "        \n",
    "    ### Function: Logger setup ###\n",
    "    def setup_logger(logger_name, log_file, level=logging.INFO):\n",
    "        logger = logging.getLogger(logger_name)\n",
    "        formatter = logging.Formatter(socket.gethostname()+' : '+'%(asctime)s : %(levelname)s : [%(filename)s:%(lineno)d] : %(message)s')\n",
    "\n",
    "        fileHandler = logging.FileHandler(log_file, mode='w')\n",
    "\n",
    "        fileHandler.setFormatter(formatter)\n",
    "\n",
    "        streamHandler = logging.StreamHandler(sys.stdout)\n",
    "        streamHandler.setFormatter(formatter)\n",
    "\n",
    "        logger.setLevel(level)\n",
    "        logger.addHandler(fileHandler)\n",
    "        logger.addHandler(streamHandler)\n",
    "        return logger\n",
    "        \n",
    "    ### Setting up the logger ###\n",
    "    setup_logger('audit', audit_log_file, level=logging.INFO)\n",
    "    setup_logger('error', error_log_file, level=logging.ERROR)\n",
    "\n",
    "    audit_logger = logging.getLogger('audit')\n",
    "    error_logger = logging.getLogger('error')\n",
    "    audit_logger.info('Process start')\n",
    "\n",
    "except Exception as err:\n",
    "    print('Setting up the logger failed')\n",
    "    print(f'Exception: {err}')\n",
    "    #input(\"press Enter to Close\")\n",
    "    sys.exit()"
   ]
  },
  {
   "cell_type": "code",
   "execution_count": 3,
   "id": "d764f815-a1b0-44d2-89bb-b0863d589aa7",
   "metadata": {},
   "outputs": [
    {
     "name": "stdout",
     "output_type": "stream",
     "text": [
      "192.168.1.112 : 2024-09-05 16:22:19,149 : INFO : [1532334409.py:1] : Saving functions\n"
     ]
    }
   ],
   "source": [
    "audit_logger.info('Saving functions')\n",
    "def execute_notebook(jupyter_nb):\n",
    "    with open(jupyter_nb, 'r', encoding='utf-8') as file:\n",
    "        notebook = nbformat.read(file, as_version=4)\n",
    "    \n",
    "    ep = ExecutePreprocessor(timeout=1600, kernel_name='python3', allow_errors=False)  # allow_errors=False to halt on error\n",
    "\n",
    "    try:\n",
    "        ep.preprocess(notebook, {'metadata': {'path': os.path.dirname(jupyter_nb)}}) #run notebook\n",
    "        \n",
    "        with open(jupyter_nb, 'wt', encoding='utf-8') as file: ## Save the executed notebook only if successful to this point\n",
    "            nbformat.write(notebook, file)\n",
    "        print(f\"Run successful for {jupyter_nb}\")\n",
    "        return True  # Return True if everything executed correctly without errors\n",
    "    except Exception as e:\n",
    "        # Catch any type of exception and stop the execution while reporting the error\n",
    "        error_logger.info(f\"Failure while running {jupyter_nb}: {e}\")\n",
    "        return False  # Return False indicating the execution did not complete successfully"
   ]
  },
  {
   "cell_type": "code",
   "execution_count": 4,
   "id": "3b838a5f-d3ff-47c6-83d3-19780584ea44",
   "metadata": {},
   "outputs": [
    {
     "name": "stdout",
     "output_type": "stream",
     "text": [
      "192.168.1.112 : 2024-09-05 16:22:19,153 : INFO : [1518559910.py:5] : Loading main file\n"
     ]
    }
   ],
   "source": [
    "#==================================================================================================\n",
    "### Loading main file ### \n",
    "#==================================================================================================\n",
    "try:\n",
    "    audit_logger.info('Loading main file')\n",
    "    df = pd.read_excel(\"Main.xlsx\")\n",
    "except Exception as err:\n",
    "    audit_logger.info('Loading main file - Failed')\n",
    "    error_logger.error('Loading main file - Failed')\n",
    "    error_logger.error('Exception: ', exc_info=True)\n",
    "    #input(\"press Enter to Close\")\n",
    "    sys.exit() "
   ]
  },
  {
   "cell_type": "code",
   "execution_count": 5,
   "id": "0358e751-9592-4598-9853-261e04ac1a53",
   "metadata": {},
   "outputs": [
    {
     "name": "stdout",
     "output_type": "stream",
     "text": [
      "192.168.1.112 : 2024-09-05 16:22:19,273 : INFO : [2405010374.py:5] : Running notebooks\n",
      "192.168.1.112 : 2024-09-05 16:22:19,276 : INFO : [2405010374.py:8] : Running pre_processing.ipynb\n"
     ]
    },
    {
     "name": "stderr",
     "output_type": "stream",
     "text": [
      "2024-09-05 16:22:26.291519: I tensorflow/core/platform/cpu_feature_guard.cc:182] This TensorFlow binary is optimized to use available CPU instructions in performance-critical operations.\n",
      "To enable the following instructions: SSE4.1 SSE4.2, in other operations, rebuild TensorFlow with the appropriate compiler flags.\n",
      "2024-09-05 16:22:32.709234: I tensorflow/core/common_runtime/pluggable_device/pluggable_device_factory.cc:306] Could not identify NUMA node of platform GPU ID 0, defaulting to 0. Your kernel may not have been built with NUMA support.\n",
      "2024-09-05 16:22:32.712103: I tensorflow/core/common_runtime/pluggable_device/pluggable_device_factory.cc:272] Created TensorFlow device (/job:localhost/replica:0/task:0/device:GPU:0 with 0 MB memory) -> physical PluggableDevice (device: 0, name: METAL, pci bus id: <undefined>)\n",
      "2024-09-05 16:22:33.670699: I tensorflow/core/grappler/optimizers/custom_graph_optimizer_registry.cc:114] Plugin optimizer for device_type GPU is enabled.\n"
     ]
    },
    {
     "name": "stdout",
     "output_type": "stream",
     "text": [
      "Run successful for Prototype_model.ipynb\n"
     ]
    }
   ],
   "source": [
    "#==================================================================================================\n",
    "### Loading main file ### \n",
    "#==================================================================================================\n",
    "try:\n",
    "    audit_logger.info('Running notebooks')# Execute the notebooks if column \"Run\" reads 1\n",
    "    for i in range(0, len(df)):\n",
    "        if df.loc[i, \"Run\"] == 1:\n",
    "            audit_logger.info(f'Running {df.loc[0, \"File_name\"]}')\n",
    "            if not execute_notebook(df.loc[i, \"File_name\"]):\n",
    "                audit_logger.info(f'Stopping further execution due to error in {df.loc[0, \"File_name\"]}')\n",
    "                break  # Exit loop if any code fails\n",
    "except Exception as err:\n",
    "    audit_logger.info('Loading main file - Failed')\n",
    "    error_logger.error('Loading main file - Failed')\n",
    "    error_logger.error('Exception: ', exc_info=True)\n",
    "    #input(\"press Enter to Close\")\n",
    "    sys.exit()"
   ]
  },
  {
   "cell_type": "code",
   "execution_count": 6,
   "id": "ecd8d0d0-8f78-4256-9ff6-73139cb71239",
   "metadata": {},
   "outputs": [
    {
     "name": "stdout",
     "output_type": "stream",
     "text": [
      "192.168.1.112 : 2024-09-05 16:22:34,697 : INFO : [2214019538.py:1] : Process run success\n",
      "192.168.1.112 : 2024-09-05 16:22:34,698 : INFO : [2214019538.py:3] : Total time taken = 0:00:15.553240\n"
     ]
    }
   ],
   "source": [
    "audit_logger.info('Process run success')\n",
    "total_time = datetime.now() - curr_time\n",
    "audit_logger.info(f'Total time taken = {total_time}')"
   ]
  },
  {
   "cell_type": "code",
   "execution_count": null,
   "id": "083947d2-5bb6-4fa1-aee0-f47ad4582d7a",
   "metadata": {},
   "outputs": [],
   "source": []
  }
 ],
 "metadata": {
  "kernelspec": {
   "display_name": "Python 3 (ipykernel)",
   "language": "python",
   "name": "python3"
  },
  "language_info": {
   "codemirror_mode": {
    "name": "ipython",
    "version": 3
   },
   "file_extension": ".py",
   "mimetype": "text/x-python",
   "name": "python",
   "nbconvert_exporter": "python",
   "pygments_lexer": "ipython3",
   "version": "3.8.19"
  }
 },
 "nbformat": 4,
 "nbformat_minor": 5
}
